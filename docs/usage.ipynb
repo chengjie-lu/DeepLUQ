{
 "cells": [
  {
   "cell_type": "markdown",
   "id": "07ba5ad8",
   "metadata": {},
   "source": [
    "# Usage\n",
    "\n",
    "The purpose of DeepLUQ is to provide Uncertainty Quantification metrics for deep learning applications.\n",
    "In the following, we describe typical usage pattern of this library."
   ]
  }
 ],
 "metadata": {
  "kernelspec": {
   "display_name": "Python 3 (ipykernel)",
   "language": "python",
   "name": "python3"
  },
  "language_info": {
   "codemirror_mode": {
    "name": "ipython",
    "version": 3
   },
   "file_extension": ".py",
   "mimetype": "text/x-python",
   "name": "python",
   "nbconvert_exporter": "python",
   "pygments_lexer": "ipython3",
   "version": "3.10.12"
  }
 },
 "nbformat": 4,
 "nbformat_minor": 5
}
